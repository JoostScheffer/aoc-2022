{
 "cells": [
  {
   "cell_type": "code",
   "execution_count": 1,
   "id": "640354c1",
   "metadata": {},
   "outputs": [],
   "source": [
    "import numpy as np"
   ]
  },
  {
   "cell_type": "code",
   "execution_count": 2,
   "id": "50b41624",
   "metadata": {},
   "outputs": [],
   "source": [
    "with open(\"./in8.txt\", \"r\") as f:\n",
    "    lines = f.read().splitlines()"
   ]
  },
  {
   "cell_type": "code",
   "execution_count": 3,
   "id": "1b5f2b30",
   "metadata": {},
   "outputs": [
    {
     "name": "stdout",
     "output_type": "stream",
     "text": [
      "1859 332640\n"
     ]
    }
   ],
   "source": [
    "forest = np.array(list(zip(*lines)), dtype=np.int32).T\n",
    "mask_1 = np.zeros_like(forest, int)\n",
    "mask_2 = np.ones_like(forest, int)\n",
    "\n",
    "for _ in range(4):\n",
    "    for x, y in np.ndindex(forest.shape):\n",
    "        decr = [t < forest[x, y] for t in forest[x, y + 1 :]]\n",
    "\n",
    "        mask_1[x, y] |= all(decr)\n",
    "        mask_2[x, y] *= next((i + 1 for i, t in enumerate(decr) if ~t), len(decr))\n",
    "\n",
    "    forest, mask_1, mask_2 = map(np.rot90, (forest, mask_1, mask_2))\n",
    "\n",
    "print(mask_1.sum(), mask_2.max())"
   ]
  }
 ],
 "metadata": {
  "kernelspec": {
   "display_name": "Python 3 (ipykernel)",
   "language": "python",
   "name": "python3"
  },
  "language_info": {
   "codemirror_mode": {
    "name": "ipython",
    "version": 3
   },
   "file_extension": ".py",
   "mimetype": "text/x-python",
   "name": "python",
   "nbconvert_exporter": "python",
   "pygments_lexer": "ipython3",
   "version": "3.10.6"
  }
 },
 "nbformat": 4,
 "nbformat_minor": 5
}
