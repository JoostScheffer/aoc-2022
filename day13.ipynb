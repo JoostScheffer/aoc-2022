{
 "cells": [
  {
   "cell_type": "code",
   "execution_count": 1,
   "id": "bb0921b4",
   "metadata": {},
   "outputs": [],
   "source": [
    "with open(\"./in13.txt\",'r') as f:\n",
    "    lines = f.read().splitlines() "
   ]
  },
  {
   "cell_type": "code",
   "execution_count": null,
   "id": "516bfb4c",
   "metadata": {},
   "outputs": [],
   "source": [
    "def recur(l,r):\n",
    "    match l, r:\n",
    "        case int(), int():\n",
    "            return (l>r) - (l<r)\n",
    "        case int(), list():\n",
    "            return recur([l],r)\n",
    "        case list(), int():\n",
    "            return recur(l,[r])\n",
    "        case list(), list():\n",
    "            for x in map(recur, l, r):\n",
    "                if x:\n",
    "                    return x\n",
    "                return recur(len(l), len(r))"
   ]
  },
  {
   "cell_type": "code",
   "execution_count": 11,
   "id": "569d40c9",
   "metadata": {},
   "outputs": [
    {
     "ename": "SyntaxError",
     "evalue": "invalid syntax (<string>, line 0)",
     "output_type": "error",
     "traceback": [
      "Traceback \u001b[0;36m(most recent call last)\u001b[0m:\n",
      "  File \u001b[1;32m~/.local/lib/python3.10/site-packages/IPython/core/interactiveshell.py:3398\u001b[0m in \u001b[1;35mrun_code\u001b[0m\n    exec(code_obj, self.user_global_ns, self.user_ns)\n",
      "\u001b[0;36m  Input \u001b[0;32mIn [11]\u001b[0;36m in \u001b[0;35m<cell line: 1>\u001b[0;36m\u001b[0m\n\u001b[0;31m    list(map(eval, lines))\u001b[0m\n",
      "\u001b[0;36m  File \u001b[0;32m<string>\u001b[0;36m\u001b[0m\n\u001b[0;31m    \u001b[0m\n\u001b[0m    ^\u001b[0m\n\u001b[0;31mSyntaxError\u001b[0m\u001b[0;31m:\u001b[0m invalid syntax\n"
     ]
    }
   ],
   "source": [
    "list(map(eval, lines))"
   ]
  },
  {
   "cell_type": "code",
   "execution_count": 9,
   "id": "fb4eb413",
   "metadata": {},
   "outputs": [
    {
     "ename": "SyntaxError",
     "evalue": "invalid syntax (<string>, line 0)",
     "output_type": "error",
     "traceback": [
      "Traceback \u001b[0;36m(most recent call last)\u001b[0m:\n",
      "  File \u001b[1;32m~/.local/lib/python3.10/site-packages/IPython/core/interactiveshell.py:3398\u001b[0m in \u001b[1;35mrun_code\u001b[0m\n    exec(code_obj, self.user_global_ns, self.user_ns)\n",
      "\u001b[0;36m  Input \u001b[0;32mIn [9]\u001b[0;36m in \u001b[0;35m<cell line: 1>\u001b[0;36m\u001b[0m\n\u001b[0;31m    lins = list(map(eval, lines))\u001b[0m\n",
      "\u001b[0;36m  File \u001b[0;32m<string>\u001b[0;36m\u001b[0m\n\u001b[0;31m    \u001b[0m\n\u001b[0m    ^\u001b[0m\n\u001b[0;31mSyntaxError\u001b[0m\u001b[0;31m:\u001b[0m invalid syntax\n"
     ]
    }
   ],
   "source": [
    "lins = list(map(eval, lines))"
   ]
  },
  {
   "cell_type": "code",
   "execution_count": 22,
   "id": "04772e16",
   "metadata": {},
   "outputs": [],
   "source": [
    "left, right = lines[::3], lines[1::3]\n",
    "left = list(map(eval, left))\n",
    "right = list(map(eval, right))"
   ]
  },
  {
   "cell_type": "code",
   "execution_count": null,
   "id": "5fc2c277",
   "metadata": {},
   "outputs": [],
   "source": [
    "for l,r in zip(left,right):\n",
    "    for vall, valr in zip(l,r):\n",
    "        if type(vall) == list\n",
    "            "
   ]
  }
 ],
 "metadata": {
  "kernelspec": {
   "display_name": "Python 3 (ipykernel)",
   "language": "python",
   "name": "python3"
  },
  "language_info": {
   "codemirror_mode": {
    "name": "ipython",
    "version": 3
   },
   "file_extension": ".py",
   "mimetype": "text/x-python",
   "name": "python",
   "nbconvert_exporter": "python",
   "pygments_lexer": "ipython3",
   "version": "3.10.6"
  }
 },
 "nbformat": 4,
 "nbformat_minor": 5
}
