{
 "cells": [
  {
   "cell_type": "code",
   "execution_count": 1,
   "id": "cf17c9cf",
   "metadata": {},
   "outputs": [],
   "source": [
    "with open(\"./in5.txt\", \"r\") as f:\n",
    "    lines = f.read()"
   ]
  },
  {
   "cell_type": "code",
   "execution_count": 5,
   "id": "0ddb0842",
   "metadata": {},
   "outputs": [
    {
     "name": "stdout",
     "output_type": "stream",
     "text": [
      "[N]     [Q]         [N]            \n",
      "[R]     [F] [Q]     [G] [M]        \n",
      "[J]     [Z] [T]     [R] [H] [J]    \n",
      "[T] [H] [G] [R]     [B] [N] [T]    \n",
      "[Z] [J] [J] [G] [F] [Z] [S] [M]    \n",
      "[B] [N] [N] [N] [Q] [W] [L] [Q] [S]\n",
      "[D] [S] [R] [V] [T] [C] [C] [N] [G]\n",
      "[F] [R] [C] [F] [L] [Q] [F] [D] [P]\n",
      " 1   2   3   4   5   6   7   8   9 \n"
     ]
    },
    {
     "data": {
      "text/plain": [
       "[['F', 'D', 'B', 'Z', 'T', 'J', 'R', 'N'],\n",
       " ['R', 'S', 'N', 'J', 'H'],\n",
       " ['C', 'R', 'N', 'J', 'G', 'Z', 'F', 'Q'],\n",
       " ['F', 'V', 'N', 'G', 'R', 'T', 'Q'],\n",
       " ['L', 'T', 'Q', 'F'],\n",
       " ['Q', 'C', 'W', 'Z', 'B', 'R', 'G', 'N'],\n",
       " ['F', 'C', 'L', 'S', 'N', 'H', 'M'],\n",
       " ['D', 'N', 'Q', 'M', 'T', 'J'],\n",
       " ['P', 'G', 'S']]"
      ]
     },
     "execution_count": 5,
     "metadata": {},
     "output_type": "execute_result"
    }
   ],
   "source": [
    "stacks, instructions = lines.split(\"\\n\\n\")\n",
    "stacks = stacks.splitlines()\n",
    "instructions = instructions.splitlines()\n",
    "print(\"\\n\".join(stacks))\n",
    "trans = list(map(list, zip(*stacks)))\n",
    "stacks = [list(\"\".join(x[:-1][::-1]).strip()) for x in trans[1::4]]\n",
    "stacks1, stacks2 = 2 * [stacks.copy()]\n",
    "\n",
    "stacks"
   ]
  },
  {
   "cell_type": "code",
   "execution_count": 6,
   "id": "952dca2c",
   "metadata": {},
   "outputs": [
    {
     "data": {
      "text/plain": [
       "'QNNTGTPFN'"
      ]
     },
     "execution_count": 6,
     "metadata": {},
     "output_type": "execute_result"
    }
   ],
   "source": [
    "for instr in list(map(lambda x: x.split(), instructions)):\n",
    "    N, fro, to = map(int, instr[1::2])\n",
    "\n",
    "    stacks1[to - 1].extend(stacks1[fro - 1][-N:][::-1])\n",
    "    del stacks1[fro - 1][-N:]\n",
    "\n",
    "\"\".join([x[-1] for x in stacks1])"
   ]
  },
  {
   "cell_type": "code",
   "execution_count": 4,
   "id": "080b7da8",
   "metadata": {},
   "outputs": [
    {
     "data": {
      "text/plain": [
       "'ZNFGNDGNT'"
      ]
     },
     "execution_count": 4,
     "metadata": {},
     "output_type": "execute_result"
    }
   ],
   "source": [
    "for instr in list(map(lambda x: x.split(), instructions)):\n",
    "    N, fro, to = map(int, instr[1::2])\n",
    "\n",
    "    stacks2[to - 1].extend(stacks2[fro - 1][-N:])\n",
    "    del stacks2[fro - 1][-N:]\n",
    "\n",
    "\"\".join([x[-1] for x in stacks2])"
   ]
  }
 ],
 "metadata": {
  "kernelspec": {
   "display_name": "Python 3 (ipykernel)",
   "language": "python",
   "name": "python3"
  },
  "language_info": {
   "codemirror_mode": {
    "name": "ipython",
    "version": 3
   },
   "file_extension": ".py",
   "mimetype": "text/x-python",
   "name": "python",
   "nbconvert_exporter": "python",
   "pygments_lexer": "ipython3",
   "version": "3.10.6"
  }
 },
 "nbformat": 4,
 "nbformat_minor": 5
}
