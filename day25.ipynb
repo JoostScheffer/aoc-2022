{
 "cells": [
  {
   "cell_type": "code",
   "execution_count": 22,
   "id": "a33054c9-ad2d-46b8-9740-d859e3cae1a2",
   "metadata": {},
   "outputs": [],
   "source": [
    "trans = {\"=\": -2, \"-\": -1, \"0\": 0, \"1\": 1, \"2\": 2}\n",
    "snaf2num = lambda snaf: sum(\n",
    "    (5 ** idx) * trans[l] for idx, l in enumerate(reversed(snaf))\n",
    ")"
   ]
  },
  {
   "cell_type": "code",
   "execution_count": 28,
   "id": "4a520c2c-1aa2-4487-84a8-cc478acf35c2",
   "metadata": {},
   "outputs": [
    {
     "data": {
      "text/plain": [
       "33979178787567"
      ]
     },
     "execution_count": 28,
     "metadata": {},
     "output_type": "execute_result"
    }
   ],
   "source": [
    "sum_part1 = sum(list(map(snaf2num, open(\"in25.txt\").read().splitlines())))\n",
    "sum_part1"
   ]
  },
  {
   "cell_type": "code",
   "execution_count": 38,
   "id": "85a5873a-e4fc-42af-ab6d-536238ff1ec6",
   "metadata": {},
   "outputs": [
    {
     "data": {
      "text/plain": [
       "{0: 1,\n",
       " 1: 5,\n",
       " 2: 25,\n",
       " 3: 125,\n",
       " 4: 625,\n",
       " 5: 3125,\n",
       " 6: 15625,\n",
       " 7: 78125,\n",
       " 8: 390625,\n",
       " 9: 1953125,\n",
       " 10: 9765625,\n",
       " 11: 48828125,\n",
       " 12: 244140625,\n",
       " 13: 1220703125,\n",
       " 14: 6103515625,\n",
       " 15: 30517578125,\n",
       " 16: 152587890625,\n",
       " 17: 762939453125,\n",
       " 18: 3814697265625,\n",
       " 19: 19073486328125}"
      ]
     },
     "execution_count": 38,
     "metadata": {},
     "output_type": "execute_result"
    }
   ],
   "source": [
    "power_dict = {}\n",
    "all_powers = []\n",
    "curr = 0\n",
    "while (num := 5 ** curr) < sum_part1:\n",
    "    power_dict[curr] = num\n",
    "    curr += 1\n",
    "\n",
    "power_dict"
   ]
  },
  {
   "cell_type": "code",
   "execution_count": 75,
   "id": "e93763e3-e8c2-4fea-a081-0941d349fe2d",
   "metadata": {},
   "outputs": [],
   "source": [
    "def up(lijst:list):\n",
    "    lijst = reversed(lijst)\n",
    "    snafup = {\"=\": \"-\", \"-\": \"0\", \"0\": \"1\", \"1\": \"2\"}\n",
    "    go_up = True\n",
    "    \n",
    "    if lijst[0] != '2':\n",
    "        for idx, num in lijst:\n",
    "\n",
    "            if num == 2:\n",
    "                lijst[idx+1] = \n",
    "        \n",
    "    else:\n",
    "        lijst[0] = snafup(lijst[0])\n",
    "        return reversed(lijst)\n",
    "    \n",
    "    \n",
    "            "
   ]
  },
  {
   "cell_type": "code",
   "execution_count": 78,
   "id": "5092ae5c-364e-4cbb-bb28-44fe1f6dc785",
   "metadata": {},
   "outputs": [
    {
     "name": "stdout",
     "output_type": "stream",
     "text": [
      "0000000000000000001= 3\n"
     ]
    }
   ],
   "source": [
    "snafup = {\"=\": \"-\", \"-\": \"0\", \"0\": \"1\", \"1\": \"2\"}\n",
    "\n",
    "def num2snaf(y: int):\n",
    "    lijst = []\n",
    "    for x in reversed(power_dict.values()):\n",
    "        if x <= y:\n",
    "            div = y // x\n",
    "            if div == 3 or div == 4:\n",
    "                if div == 3:\n",
    "                    lijst.append(\"=\")\n",
    "                else:\n",
    "                    lijst.append(\"-\")\n",
    "                    \n",
    "                if lijst[-2] == '2':\n",
    "                    \n",
    "                lijst[-2] = snafup[lijst[-2]]\n",
    "                \n",
    "            else:\n",
    "                lijst.append(str(div))\n",
    "            y -= x * div\n",
    "        else:\n",
    "            lijst.append(\"0\")\n",
    "\n",
    "    snaf = \"\".join(lijst)\n",
    "    # print(f\"{snaf=}\")\n",
    "    return snaf\n",
    "\n",
    "\n",
    "s = num2snaf(3)\n",
    "print(s, snaf2num(s))"
   ]
  },
  {
   "cell_type": "code",
   "execution_count": 74,
   "id": "4d92a57f-2c3e-46d1-a0be-775ed13d53d1",
   "metadata": {},
   "outputs": [
    {
     "ename": "KeyError",
     "evalue": "'2'",
     "output_type": "error",
     "traceback": [
      "\u001b[0;31m---------------------------------------------------------------------------\u001b[0m",
      "\u001b[0;31mKeyError\u001b[0m                                  Traceback (most recent call last)",
      "Input \u001b[0;32mIn [74]\u001b[0m, in \u001b[0;36m<cell line: 1>\u001b[0;34m()\u001b[0m\n\u001b[0;32m----> 1\u001b[0m \u001b[43mnum2snaf\u001b[49m\u001b[43m(\u001b[49m\u001b[43msum_part1\u001b[49m\u001b[43m)\u001b[49m\n",
      "Input \u001b[0;32mIn [71]\u001b[0m, in \u001b[0;36mnum2snaf\u001b[0;34m(y)\u001b[0m\n\u001b[1;32m      8\u001b[0m div \u001b[38;5;241m=\u001b[39m y \u001b[38;5;241m/\u001b[39m\u001b[38;5;241m/\u001b[39m x\n\u001b[1;32m      9\u001b[0m \u001b[38;5;28;01mif\u001b[39;00m div \u001b[38;5;241m==\u001b[39m \u001b[38;5;241m3\u001b[39m:\n\u001b[0;32m---> 10\u001b[0m     lijst[\u001b[38;5;241m-\u001b[39m\u001b[38;5;241m1\u001b[39m] \u001b[38;5;241m=\u001b[39m \u001b[43msnafup\u001b[49m\u001b[43m[\u001b[49m\u001b[43mlijst\u001b[49m\u001b[43m[\u001b[49m\u001b[38;5;241;43m-\u001b[39;49m\u001b[38;5;241;43m1\u001b[39;49m\u001b[43m]\u001b[49m\u001b[43m]\u001b[49m\n\u001b[1;32m     11\u001b[0m     lijst\u001b[38;5;241m.\u001b[39mappend(\u001b[38;5;124m\"\u001b[39m\u001b[38;5;124m=\u001b[39m\u001b[38;5;124m\"\u001b[39m)\n\u001b[1;32m     12\u001b[0m \u001b[38;5;28;01melif\u001b[39;00m div \u001b[38;5;241m==\u001b[39m \u001b[38;5;241m4\u001b[39m:\n",
      "\u001b[0;31mKeyError\u001b[0m: '2'"
     ]
    }
   ],
   "source": [
    "num2snaf(sum_part1)"
   ]
  },
  {
   "cell_type": "code",
   "execution_count": 72,
   "id": "1b215127-1cf6-4207-92f1-e33d2802c566",
   "metadata": {},
   "outputs": [
    {
     "name": "stdout",
     "output_type": "stream",
     "text": [
      "1 1\n",
      "2 2\n",
      "3 3\n",
      "4 4\n",
      "5 5\n",
      "6 6\n",
      "7 7\n",
      "8 8\n",
      "9 9\n",
      "10 10\n",
      "15 15\n",
      "20 20\n",
      "2022 2022\n",
      "12345 12345\n",
      "314159265 314159265\n"
     ]
    }
   ],
   "source": [
    "for x in [1, 2, 3, 4, 5, 6, 7, 8, 9, 10, 15, 20, 2022, 12345, 314159265]:\n",
    "    s = snaf2num(num2snaf(x))\n",
    "    print(x, s)"
   ]
  },
  {
   "cell_type": "markdown",
   "id": "1529cb05-ec7f-48e3-aa58-e8e0e1083724",
   "metadata": {},
   "source": [
    "loop door de machten van 5 van boven naar beneden"
   ]
  },
  {
   "cell_type": "code",
   "execution_count": 73,
   "id": "88d290ed-2076-4a48-bda9-93b97aba1a84",
   "metadata": {},
   "outputs": [
    {
     "data": {
      "text/plain": [
       "'0000000000000000001='"
      ]
     },
     "execution_count": 73,
     "metadata": {},
     "output_type": "execute_result"
    }
   ],
   "source": [
    "num2snaf(3)"
   ]
  }
 ],
 "metadata": {
  "kernelspec": {
   "display_name": "Python 3 (ipykernel)",
   "language": "python",
   "name": "python3"
  },
  "language_info": {
   "codemirror_mode": {
    "name": "ipython",
    "version": 3
   },
   "file_extension": ".py",
   "mimetype": "text/x-python",
   "name": "python",
   "nbconvert_exporter": "python",
   "pygments_lexer": "ipython3",
   "version": "3.10.6"
  }
 },
 "nbformat": 4,
 "nbformat_minor": 5
}
