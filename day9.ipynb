{
 "cells": [
  {
   "cell_type": "code",
   "execution_count": 1,
   "id": "27ba8e4e-2627-4646-bfe9-c5d2b28e9d37",
   "metadata": {},
   "outputs": [],
   "source": [
    "from tqdm import tqdm"
   ]
  },
  {
   "cell_type": "code",
   "execution_count": 4,
   "id": "6567fc8c-fe87-46bd-a56c-d31162f81704",
   "metadata": {},
   "outputs": [
    {
     "name": "stderr",
     "output_type": "stream",
     "text": [
      "100%|████████████████████████████████████████████| 2000/2000 [00:00<00:00, 296784.29it/s]\n"
     ]
    }
   ],
   "source": [
    "instructions = list(map(lambda x: x.split(), open('in9.txt').readlines()))\n",
    "tail = 0+0j\n",
    "head = 0+0j\n",
    "maps = {'R': 1, 'U':1j, 'L':-1, 'D':-1j}\n",
    "been = {tail}\n",
    "\n",
    "for dire, steps in tqdm(instructions):\n",
    "    # print(f\"{head.real,head.imag}\")\n",
    "    for _ in range(int(steps)):\n",
    "        prev_head = head\n",
    "        head += maps[dire]\n",
    "        if any((abs(head.real - tail.real) > 1, abs(head.imag - tail.imag) > 1)):\n",
    "            tail = prev_head\n",
    "            been.add(tail)"
   ]
  },
  {
   "cell_type": "code",
   "execution_count": 7,
   "id": "b30be2ae-5184-4c93-a3e6-0e907bfe5e3b",
   "metadata": {},
   "outputs": [
    {
     "data": {
      "text/plain": [
       "[{0}, {0}, {0}, {0}, {0}, {0}, {0}, {0}, {0}, {0}]"
      ]
     },
     "execution_count": 7,
     "metadata": {},
     "output_type": "execute_result"
    }
   ],
   "source": [
    "rope = [0] * 10\n",
    "seen = [set([x]) for x in rope]\n",
    "seen"
   ]
  },
  {
   "cell_type": "code",
   "execution_count": 5,
   "id": "c80fc19d-00b9-40e5-9e4d-f9a270657b34",
   "metadata": {},
   "outputs": [
    {
     "data": {
      "text/plain": [
       "6266"
      ]
     },
     "execution_count": 5,
     "metadata": {},
     "output_type": "execute_result"
    }
   ],
   "source": [
    "len(been)"
   ]
  }
 ],
 "metadata": {
  "kernelspec": {
   "display_name": "Python 3 (ipykernel)",
   "language": "python",
   "name": "python3"
  },
  "language_info": {
   "codemirror_mode": {
    "name": "ipython",
    "version": 3
   },
   "file_extension": ".py",
   "mimetype": "text/x-python",
   "name": "python",
   "nbconvert_exporter": "python",
   "pygments_lexer": "ipython3",
   "version": "3.10.6"
  }
 },
 "nbformat": 4,
 "nbformat_minor": 5
}
