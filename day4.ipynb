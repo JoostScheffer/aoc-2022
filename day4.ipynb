{
 "cells": [
  {
   "cell_type": "code",
   "execution_count": 30,
   "id": "ccf0184c",
   "metadata": {},
   "outputs": [],
   "source": [
    "with open(\"./in4.txt\",'r') as f:\n",
    "    lines = f.read().splitlines() "
   ]
  },
  {
   "cell_type": "code",
   "execution_count": 31,
   "id": "75490752",
   "metadata": {},
   "outputs": [
    {
     "data": {
      "text/plain": [
       "496"
      ]
     },
     "execution_count": 31,
     "metadata": {},
     "output_type": "execute_result"
    }
   ],
   "source": [
    "sum(\n",
    "    [\n",
    "        x[0] >= y[0] and x[1] <= y[1] or x[0] <= y[0] and x[1] >= y[1]\n",
    "        for x, y in [\n",
    "            [list(map(int, x.split(\"-\"))), list(map(int, y.split(\"-\")))]\n",
    "            for x, y in [x.split(\",\") for x in lines]\n",
    "        ]\n",
    "    ]\n",
    ")"
   ]
  },
  {
   "cell_type": "code",
   "execution_count": 32,
   "id": "94ac55ea",
   "metadata": {},
   "outputs": [
    {
     "data": {
      "text/plain": [
       "847"
      ]
     },
     "execution_count": 32,
     "metadata": {},
     "output_type": "execute_result"
    }
   ],
   "source": [
    "sum(\n",
    "    [\n",
    "        x[0] >= y[0]\n",
    "        and x[0] <= y[1]\n",
    "        or x[1] >= y[0]\n",
    "        and x[1] <= y[1]\n",
    "        or y[0] >= x[0]\n",
    "        and y[0] <= x[1]\n",
    "        or y[1] >= x[0]\n",
    "        and y[1] <= x[1]\n",
    "        for x, y in [\n",
    "            [list(map(int, x.split(\"-\"))), list(map(int, y.split(\"-\")))]\n",
    "            for x, y in [x.split(\",\") for x in lines]\n",
    "        ]\n",
    "    ]\n",
    ")"
   ]
  }
 ],
 "metadata": {
  "kernelspec": {
   "display_name": "Python 3 (ipykernel)",
   "language": "python",
   "name": "python3"
  },
  "language_info": {
   "codemirror_mode": {
    "name": "ipython",
    "version": 3
   },
   "file_extension": ".py",
   "mimetype": "text/x-python",
   "name": "python",
   "nbconvert_exporter": "python",
   "pygments_lexer": "ipython3",
   "version": "3.10.6"
  }
 },
 "nbformat": 4,
 "nbformat_minor": 5
}
