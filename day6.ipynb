{
 "cells": [
  {
   "cell_type": "code",
   "execution_count": 1,
   "id": "53614fae",
   "metadata": {},
   "outputs": [],
   "source": [
    "with open(\"./in6.txt\", \"r\") as f:\n",
    "    line = f.read().strip()"
   ]
  },
  {
   "cell_type": "code",
   "execution_count": 2,
   "id": "30f60b61",
   "metadata": {},
   "outputs": [],
   "source": [
    "def sol(line, N):\n",
    "    for i in range(N, len(line)):\n",
    "        if len(set(line[i - N : i])) == N:\n",
    "            return i"
   ]
  },
  {
   "cell_type": "code",
   "execution_count": 3,
   "id": "90ecb4d1",
   "metadata": {},
   "outputs": [
    {
     "name": "stdout",
     "output_type": "stream",
     "text": [
      "1802 3551\n"
     ]
    }
   ],
   "source": [
    "print(sol(line, 4), sol(line, 14))"
   ]
  },
  {
   "cell_type": "markdown",
   "id": "5fa486cf",
   "metadata": {},
   "source": [
    "## alternative solution for 1:"
   ]
  },
  {
   "cell_type": "code",
   "execution_count": 4,
   "id": "d0b9c0ab",
   "metadata": {},
   "outputs": [
    {
     "data": {
      "text/plain": [
       "1802"
      ]
     },
     "execution_count": 4,
     "metadata": {},
     "output_type": "execute_result"
    }
   ],
   "source": [
    "list(map(len, map(set, zip(line[0:-3], line[1:-2], line[2:-1], line[3:])))).index(4) + 4"
   ]
  }
 ],
 "metadata": {
  "kernelspec": {
   "display_name": "Python 3 (ipykernel)",
   "language": "python",
   "name": "python3"
  },
  "language_info": {
   "codemirror_mode": {
    "name": "ipython",
    "version": 3
   },
   "file_extension": ".py",
   "mimetype": "text/x-python",
   "name": "python",
   "nbconvert_exporter": "python",
   "pygments_lexer": "ipython3",
   "version": "3.10.6"
  }
 },
 "nbformat": 4,
 "nbformat_minor": 5
}
