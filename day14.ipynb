{
 "cells": [
  {
   "cell_type": "code",
   "execution_count": 28,
   "id": "e6813351",
   "metadata": {},
   "outputs": [],
   "source": [
    "with open(\"./in14.txt\", \"r\") as f:\n",
    "    lines = f.read().splitlines()"
   ]
  },
  {
   "cell_type": "markdown",
   "id": "f4a965b3",
   "metadata": {},
   "source": [
    "make the cave"
   ]
  },
  {
   "cell_type": "code",
   "execution_count": 32,
   "id": "1f647807",
   "metadata": {},
   "outputs": [],
   "source": [
    "instructions = [\n",
    "    [list(map(int, part.split(\",\"))) for part in pair.split(\" -> \")] for pair in lines\n",
    "]\n",
    "cave = set()\n",
    "\n",
    "range_sorted = lambda *x: range(min(x), max(x) + 1)\n",
    "\n",
    "for instr in instructions:\n",
    "    for i in range(len(instr) - 1):\n",
    "        (x1, x2), (y1, y2) = (instr[i][0], instr[i + 1][0]), (\n",
    "            instr[i][1],\n",
    "            instr[i + 1][1],\n",
    "        )\n",
    "\n",
    "        cave |= {\n",
    "            complex(x, y) for x in range_sorted(x1, x2) for y in range_sorted(y1, y2)\n",
    "        }"
   ]
  },
  {
   "cell_type": "code",
   "execution_count": 33,
   "id": "2dff0f81",
   "metadata": {},
   "outputs": [
    {
     "ename": "KeyboardInterrupt",
     "evalue": "",
     "output_type": "error",
     "traceback": [
      "\u001b[0;31m---------------------------------------------------------------------------\u001b[0m",
      "\u001b[0;31mKeyboardInterrupt\u001b[0m                         Traceback (most recent call last)",
      "Input \u001b[0;32mIn [33]\u001b[0m, in \u001b[0;36m<cell line: 7>\u001b[0;34m()\u001b[0m\n\u001b[1;32m      7\u001b[0m \u001b[38;5;28;01mwhile\u001b[39;00m \u001b[38;5;241m500\u001b[39m \u001b[38;5;129;01mnot\u001b[39;00m \u001b[38;5;129;01min\u001b[39;00m cave:\n\u001b[1;32m      8\u001b[0m     pos \u001b[38;5;241m=\u001b[39m \u001b[38;5;241m500\u001b[39m\n\u001b[0;32m----> 9\u001b[0m     \u001b[38;5;28;01mwhile\u001b[39;00m \u001b[38;5;28;01mTrue\u001b[39;00m:\n\u001b[1;32m     10\u001b[0m         \u001b[38;5;28;01mif\u001b[39;00m part1 \u001b[38;5;129;01mand\u001b[39;00m pos\u001b[38;5;241m.\u001b[39mimag \u001b[38;5;241m>\u001b[39m floor:\n\u001b[1;32m     11\u001b[0m             \u001b[38;5;28mprint\u001b[39m(\u001b[38;5;28mlen\u001b[39m(cave)\u001b[38;5;241m-\u001b[39mrocks)\n",
      "\u001b[0;31mKeyboardInterrupt\u001b[0m: "
     ]
    }
   ],
   "source": [
    "floor = max(x.imag for x in cave)\n",
    "rocks = len(cave)\n",
    "\n",
    "part1 = False\n",
    "\n",
    "while 500 not in cave:\n",
    "    pos = 500\n",
    "    while True:\n",
    "        if part1 and pos.imag > floor:\n",
    "            print(len(cave) - rocks)\n",
    "        for new_pos in pos + 1j, pos - 1 + 1j, pos + 1 + 1j:\n",
    "            if new_pos not in cave:\n",
    "                pos = new_pos\n",
    "                break\n",
    "        else:\n",
    "            break\n",
    "    cave.add(pos)\n",
    "\n",
    "print(len(cave) - rocks)"
   ]
  },
  {
   "cell_type": "code",
   "execution_count": null,
   "id": "fc6a03c9",
   "metadata": {},
   "outputs": [],
   "source": []
  },
  {
   "cell_type": "code",
   "execution_count": null,
   "id": "b0e6b965",
   "metadata": {},
   "outputs": [],
   "source": []
  }
 ],
 "metadata": {
  "kernelspec": {
   "display_name": "Python 3 (ipykernel)",
   "language": "python",
   "name": "python3"
  },
  "language_info": {
   "codemirror_mode": {
    "name": "ipython",
    "version": 3
   },
   "file_extension": ".py",
   "mimetype": "text/x-python",
   "name": "python",
   "nbconvert_exporter": "python",
   "pygments_lexer": "ipython3",
   "version": "3.10.6"
  }
 },
 "nbformat": 4,
 "nbformat_minor": 5
}
