{
 "cells": [
  {
   "cell_type": "code",
   "execution_count": 26,
   "id": "394b6b01-a384-4dd4-b006-d9a0d1db2e20",
   "metadata": {},
   "outputs": [],
   "source": [
    "with open(\"in10.txt\", \"r\") as f:\n",
    "    instructions = f.read().splitlines()"
   ]
  },
  {
   "cell_type": "code",
   "execution_count": 45,
   "id": "350531fb-d658-4799-8954-f2fe3a77c511",
   "metadata": {},
   "outputs": [
    {
     "name": "stdout",
     "output_type": "stream",
     "text": [
      "pos 1, cyc 1\n",
      "pos 1, cyc 2\n",
      "pos 7, cyc 6\n",
      "pos 7, cyc 7\n",
      "pos 11, cyc 11\n",
      "pos 11, cyc 12\n",
      "pos 18, cyc 17\n",
      "pos 18, cyc 18\n",
      "pos 21, cyc 22\n",
      "pos 26, cyc 26\n",
      "pos 26, cyc 27\n",
      "pos 31, cyc 30\n",
      "pos 31, cyc 31\n",
      "pos 34, cyc 33\n",
      "pos 36, cyc 36\n",
      "pos 36, cyc 37\n",
      "14340\n"
     ]
    },
    {
     "data": {
      "text/plain": [
       "'##...##...##....##...#...##..##..#.##...'"
      ]
     },
     "execution_count": 45,
     "metadata": {},
     "output_type": "execute_result"
    }
   ],
   "source": [
    "sig = []\n",
    "cyc = 1\n",
    "reg_x = 1\n",
    "screen = [\".\"] * 240\n",
    "for instr in instructions:\n",
    "    if cyc in [reg_x, reg_x - 1, reg_x + 1]:\n",
    "        print(f\"pos {reg_x}, cyc {cyc}\")\n",
    "        screen[cyc - 1] = \"#\"\n",
    "\n",
    "    if (cyc - 20) % 40 == 0:\n",
    "        # print(f\"cycle {cyc}, value {reg_x}\")\n",
    "        sig.append(cyc * reg_x)\n",
    "\n",
    "    if (command := instr[:4]) == \"addx\":\n",
    "        cyc += 1\n",
    "        # if reg_x in [cyc,cyc+1,cyc+2] and reg_x<len(screen):\n",
    "        if cyc in [reg_x, reg_x - 1, reg_x + 1]:\n",
    "            print(f\"pos {reg_x}, cyc {cyc}\")\n",
    "            screen[reg_x - 1] = \"#\"\n",
    "        if (cyc - 20) % 40 == 0:\n",
    "            # print(f\"cycle {cyc}, value {reg_x}\")\n",
    "            sig.append(cyc * reg_x)\n",
    "        reg_x += int(instr[5:])\n",
    "\n",
    "    cyc += 1\n",
    "\n",
    "if cyc in [reg_x, reg_x - 1, reg_x + 1]:\n",
    "    print(f\"pos {reg_x}, cyc {cyc}\")\n",
    "    screen[cyc - 1] = \"#\"\n",
    "    \n",
    "print(sum(sig))\n",
    "\"\".join(screen)[:40]"
   ]
  },
  {
   "cell_type": "code",
   "execution_count": 35,
   "id": "b536c507-a776-48e9-bd33-b657d715be8c",
   "metadata": {},
   "outputs": [
    {
     "data": {
      "text/plain": [
       "'#.....#...#......#..#....#....#..#.#............................................................................................................................................................................................................'"
      ]
     },
     "execution_count": 35,
     "metadata": {},
     "output_type": "execute_result"
    }
   ],
   "source": []
  }
 ],
 "metadata": {
  "kernelspec": {
   "display_name": "Python 3 (ipykernel)",
   "language": "python",
   "name": "python3"
  },
  "language_info": {
   "codemirror_mode": {
    "name": "ipython",
    "version": 3
   },
   "file_extension": ".py",
   "mimetype": "text/x-python",
   "name": "python",
   "nbconvert_exporter": "python",
   "pygments_lexer": "ipython3",
   "version": "3.10.6"
  }
 },
 "nbformat": 4,
 "nbformat_minor": 5
}
