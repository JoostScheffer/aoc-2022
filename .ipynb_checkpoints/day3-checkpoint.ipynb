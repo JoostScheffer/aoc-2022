{
 "cells": [
  {
   "cell_type": "code",
   "execution_count": 28,
   "id": "1039af31",
   "metadata": {},
   "outputs": [],
   "source": [
    "with open(\"./in3.txt\",'r') as f:\n",
    "    lines = f.read().splitlines() "
   ]
  },
  {
   "cell_type": "code",
   "execution_count": 34,
   "id": "afee8348",
   "metadata": {},
   "outputs": [
    {
     "data": {
      "text/plain": [
       "8394"
      ]
     },
     "execution_count": 34,
     "metadata": {},
     "output_type": "execute_result"
    }
   ],
   "source": [
    "sum(\n",
    "    [\n",
    "        ord(x) - ord(\"a\") + 1 + 58 * x.isupper()\n",
    "        for x in [\n",
    "            tuple(set(line[: len(line) // 2]) & set(line[len(line) // 2 :]))[0]\n",
    "            for line in lines\n",
    "        ]\n",
    "    ]\n",
    ")"
   ]
  },
  {
   "cell_type": "code",
   "execution_count": 51,
   "id": "40532f6a",
   "metadata": {},
   "outputs": [
    {
     "data": {
      "text/plain": [
       "2413"
      ]
     },
     "execution_count": 51,
     "metadata": {},
     "output_type": "execute_result"
    }
   ],
   "source": [
    "sum(\n",
    "    [\n",
    "        ord(x) - ord(\"a\") + 1 + 58 * x.isupper()\n",
    "        for x in [\n",
    "            tuple(set.intersection(*x))[0]\n",
    "            for x in list(zip(*(iter(map(set, lines)),) * 3))\n",
    "        ]\n",
    "    ]\n",
    ")"
   ]
  }
 ],
 "metadata": {
  "kernelspec": {
   "display_name": "Python 3 (ipykernel)",
   "language": "python",
   "name": "python3"
  },
  "language_info": {
   "codemirror_mode": {
    "name": "ipython",
    "version": 3
   },
   "file_extension": ".py",
   "mimetype": "text/x-python",
   "name": "python",
   "nbconvert_exporter": "python",
   "pygments_lexer": "ipython3",
   "version": "3.10.6"
  }
 },
 "nbformat": 4,
 "nbformat_minor": 5
}
