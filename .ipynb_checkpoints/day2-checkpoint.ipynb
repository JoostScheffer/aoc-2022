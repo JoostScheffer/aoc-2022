{
 "cells": [
  {
   "cell_type": "code",
   "execution_count": 93,
   "id": "d07d7daf",
   "metadata": {},
   "outputs": [],
   "source": [
    "with open(\"./in2.txt\",'r') as f:\n",
    "    lines = f.read().splitlines() "
   ]
  },
  {
   "cell_type": "code",
   "execution_count": 61,
   "id": "0ba0b938",
   "metadata": {},
   "outputs": [],
   "source": [
    "winsum = lambda lines:sum(\n",
    "    [\n",
    "        {\"A Y\": 6, \"B Z\": 6, \"C X\": 6, \"A X\": 3, \"B Y\": 3, \"C Z\": 3}.get(x, 0)\n",
    "        for x in lines\n",
    "    ]\n",
    ") + sum([ord(x[-1]) - ord(\"W\") for x in lines])"
   ]
  },
  {
   "cell_type": "code",
   "execution_count": 62,
   "id": "39d63ed1",
   "metadata": {},
   "outputs": [
    {
     "data": {
      "text/plain": [
       "9177"
      ]
     },
     "execution_count": 62,
     "metadata": {},
     "output_type": "execute_result"
    }
   ],
   "source": [
    "winsum(lines)"
   ]
  },
  {
   "cell_type": "code",
   "execution_count": 96,
   "id": "c77df895",
   "metadata": {},
   "outputs": [
    {
     "data": {
      "text/plain": [
       "12111"
      ]
     },
     "execution_count": 96,
     "metadata": {},
     "output_type": "execute_result"
    }
   ],
   "source": [
    "winsum(\n",
    "    [\n",
    "        f\"{x[0]} {chr((ord(x[0])-ord('A')+{'X':2,'Y':0,'Z':1}[x[-1]])%3+ord('X'))}\"\n",
    "        for x in lines\n",
    "    ]\n",
    ")"
   ]
  }
 ],
 "metadata": {
  "kernelspec": {
   "display_name": "Python 3 (ipykernel)",
   "language": "python",
   "name": "python3"
  },
  "language_info": {
   "codemirror_mode": {
    "name": "ipython",
    "version": 3
   },
   "file_extension": ".py",
   "mimetype": "text/x-python",
   "name": "python",
   "nbconvert_exporter": "python",
   "pygments_lexer": "ipython3",
   "version": "3.10.6"
  }
 },
 "nbformat": 4,
 "nbformat_minor": 5
}
