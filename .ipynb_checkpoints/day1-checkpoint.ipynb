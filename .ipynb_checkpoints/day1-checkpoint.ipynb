{
 "cells": [
  {
   "cell_type": "code",
   "execution_count": 2,
   "id": "c991448b",
   "metadata": {},
   "outputs": [],
   "source": [
    "with open(\"./in1.txt\", \"r\") as f:\n",
    "    lines = f.readlines()"
   ]
  },
  {
   "cell_type": "code",
   "execution_count": 17,
   "id": "33fa0aac",
   "metadata": {},
   "outputs": [],
   "source": [
    "cal_per_elf = [\n",
    "    sum(map(int, x.split()))\n",
    "    for x in \" \".join([line.rstrip() for line in lines]).split(\"  \")\n",
    "]"
   ]
  },
  {
   "cell_type": "code",
   "execution_count": 23,
   "id": "5e2f755e",
   "metadata": {},
   "outputs": [
    {
     "data": {
      "text/plain": [
       "66487"
      ]
     },
     "execution_count": 23,
     "metadata": {},
     "output_type": "execute_result"
    }
   ],
   "source": [
    "one = max(cal_per_elf)\n",
    "one"
   ]
  },
  {
   "cell_type": "code",
   "execution_count": 25,
   "id": "5b27960e",
   "metadata": {},
   "outputs": [
    {
     "data": {
      "text/plain": [
       "197301"
      ]
     },
     "execution_count": 25,
     "metadata": {},
     "output_type": "execute_result"
    }
   ],
   "source": [
    "cal_per_elf.sort(reverse=True)\n",
    "two = sum(cal_per_elf[:3])\n",
    "two"
   ]
  }
 ],
 "metadata": {
  "kernelspec": {
   "display_name": "Python 3 (ipykernel)",
   "language": "python",
   "name": "python3"
  },
  "language_info": {
   "codemirror_mode": {
    "name": "ipython",
    "version": 3
   },
   "file_extension": ".py",
   "mimetype": "text/x-python",
   "name": "python",
   "nbconvert_exporter": "python",
   "pygments_lexer": "ipython3",
   "version": "3.10.6"
  }
 },
 "nbformat": 4,
 "nbformat_minor": 5
}
