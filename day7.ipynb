{
 "cells": [
  {
   "cell_type": "code",
   "execution_count": 1,
   "id": "e2fbe407",
   "metadata": {},
   "outputs": [],
   "source": [
    "with open(\"./in7.txt\",'r') as f:\n",
    "    lines = f.read().splitlines() "
   ]
  },
  {
   "cell_type": "code",
   "execution_count": 2,
   "id": "74f1c241",
   "metadata": {},
   "outputs": [],
   "source": [
    "from collections import defaultdict\n",
    "from itertools import accumulate"
   ]
  },
  {
   "cell_type": "code",
   "execution_count": 3,
   "id": "5ea1a5eb",
   "metadata": {},
   "outputs": [],
   "source": [
    "directs = defaultdict(int)"
   ]
  },
  {
   "cell_type": "code",
   "execution_count": 4,
   "id": "3078dbeb",
   "metadata": {},
   "outputs": [],
   "source": [
    "for line in lines:\n",
    "    match line.split():\n",
    "        case '$', 'cd', '/':\n",
    "            curr = ['/']\n",
    "        case '$', 'cd', '..':\n",
    "            curr.pop()\n",
    "        case '$', 'cd', x:\n",
    "            curr.append(x)\n",
    "        case '$', 'ls':\n",
    "            pass\n",
    "        case 'dir', _:\n",
    "            pass\n",
    "        case size, _:\n",
    "            for x in accumulate(curr):\n",
    "                directs[x]+=int(size)"
   ]
  },
  {
   "cell_type": "code",
   "execution_count": 5,
   "id": "2daba585",
   "metadata": {},
   "outputs": [
    {
     "data": {
      "text/plain": [
       "1348005"
      ]
     },
     "execution_count": 5,
     "metadata": {},
     "output_type": "execute_result"
    }
   ],
   "source": [
    "sum(x for x in directs.values() if x <= 100_000)"
   ]
  },
  {
   "cell_type": "code",
   "execution_count": 6,
   "id": "fc86c0f1",
   "metadata": {},
   "outputs": [
    {
     "data": {
      "text/plain": [
       "12785886"
      ]
     },
     "execution_count": 6,
     "metadata": {},
     "output_type": "execute_result"
    }
   ],
   "source": [
    "min(x for x in directs.values() if x >= (30000000-(70000000 - directs['/'])))"
   ]
  }
 ],
 "metadata": {
  "kernelspec": {
   "display_name": "Python 3 (ipykernel)",
   "language": "python",
   "name": "python3"
  },
  "language_info": {
   "codemirror_mode": {
    "name": "ipython",
    "version": 3
   },
   "file_extension": ".py",
   "mimetype": "text/x-python",
   "name": "python",
   "nbconvert_exporter": "python",
   "pygments_lexer": "ipython3",
   "version": "3.10.6"
  }
 },
 "nbformat": 4,
 "nbformat_minor": 5
}
